{
 "cells": [
  {
   "cell_type": "markdown",
   "id": "8a77807f92f26ee",
   "metadata": {},
   "source": [
    "## Setup inicial - Bibliotecas e importação de dados"
   ]
  },
  {
   "cell_type": "code",
   "execution_count": 2,
   "id": "fbc121e30a2defb3",
   "metadata": {
    "ExecuteTime": {
     "end_time": "2025-08-24T18:39:54.850732Z",
     "start_time": "2025-08-24T18:39:54.845808Z"
    }
   },
   "outputs": [],
   "source": [
    "import pandas as pd\n",
    "import matplotlib.pyplot as plt\n",
    "import seaborn as sns"
   ]
  },
  {
   "cell_type": "code",
   "execution_count": 3,
   "id": "4bf26a44c8175e18",
   "metadata": {
    "ExecuteTime": {
     "end_time": "2025-08-24T18:39:54.923050Z",
     "start_time": "2025-08-24T18:39:54.886617Z"
    }
   },
   "outputs": [],
   "source": [
    "df = pd.read_csv(\"data/machine1.csv\")"
   ]
  },
  {
   "cell_type": "code",
   "execution_count": 17,
   "id": "5879ecbb",
   "metadata": {},
   "outputs": [
    {
     "data": {
      "text/html": [
       "<div>\n",
       "<style scoped>\n",
       "    .dataframe tbody tr th:only-of-type {\n",
       "        vertical-align: middle;\n",
       "    }\n",
       "\n",
       "    .dataframe tbody tr th {\n",
       "        vertical-align: top;\n",
       "    }\n",
       "\n",
       "    .dataframe thead th {\n",
       "        text-align: right;\n",
       "    }\n",
       "</style>\n",
       "<table border=\"1\" class=\"dataframe\">\n",
       "  <thead>\n",
       "    <tr style=\"text-align: right;\">\n",
       "      <th></th>\n",
       "      <th>date</th>\n",
       "      <th>datetime</th>\n",
       "      <th>cash_type</th>\n",
       "      <th>card</th>\n",
       "      <th>money</th>\n",
       "      <th>coffee_name</th>\n",
       "    </tr>\n",
       "  </thead>\n",
       "  <tbody>\n",
       "    <tr>\n",
       "      <th>0</th>\n",
       "      <td>2024-03-01</td>\n",
       "      <td>2024-03-01 10:15:50.520</td>\n",
       "      <td>card</td>\n",
       "      <td>ANON-0000-0000-0001</td>\n",
       "      <td>38.7</td>\n",
       "      <td>Latte</td>\n",
       "    </tr>\n",
       "    <tr>\n",
       "      <th>1</th>\n",
       "      <td>2024-03-01</td>\n",
       "      <td>2024-03-01 12:19:22.539</td>\n",
       "      <td>card</td>\n",
       "      <td>ANON-0000-0000-0002</td>\n",
       "      <td>38.7</td>\n",
       "      <td>Hot Chocolate</td>\n",
       "    </tr>\n",
       "    <tr>\n",
       "      <th>2</th>\n",
       "      <td>2024-03-01</td>\n",
       "      <td>2024-03-01 12:20:18.089</td>\n",
       "      <td>card</td>\n",
       "      <td>ANON-0000-0000-0002</td>\n",
       "      <td>38.7</td>\n",
       "      <td>Hot Chocolate</td>\n",
       "    </tr>\n",
       "    <tr>\n",
       "      <th>3</th>\n",
       "      <td>2024-03-01</td>\n",
       "      <td>2024-03-01 13:46:33.006</td>\n",
       "      <td>card</td>\n",
       "      <td>ANON-0000-0000-0003</td>\n",
       "      <td>28.9</td>\n",
       "      <td>Americano</td>\n",
       "    </tr>\n",
       "    <tr>\n",
       "      <th>4</th>\n",
       "      <td>2024-03-01</td>\n",
       "      <td>2024-03-01 13:48:14.626</td>\n",
       "      <td>card</td>\n",
       "      <td>ANON-0000-0000-0004</td>\n",
       "      <td>38.7</td>\n",
       "      <td>Latte</td>\n",
       "    </tr>\n",
       "  </tbody>\n",
       "</table>\n",
       "</div>"
      ],
      "text/plain": [
       "         date                 datetime cash_type                 card  money  \\\n",
       "0  2024-03-01  2024-03-01 10:15:50.520      card  ANON-0000-0000-0001   38.7   \n",
       "1  2024-03-01  2024-03-01 12:19:22.539      card  ANON-0000-0000-0002   38.7   \n",
       "2  2024-03-01  2024-03-01 12:20:18.089      card  ANON-0000-0000-0002   38.7   \n",
       "3  2024-03-01  2024-03-01 13:46:33.006      card  ANON-0000-0000-0003   28.9   \n",
       "4  2024-03-01  2024-03-01 13:48:14.626      card  ANON-0000-0000-0004   38.7   \n",
       "\n",
       "     coffee_name  \n",
       "0          Latte  \n",
       "1  Hot Chocolate  \n",
       "2  Hot Chocolate  \n",
       "3      Americano  \n",
       "4          Latte  "
      ]
     },
     "execution_count": 17,
     "metadata": {},
     "output_type": "execute_result"
    }
   ],
   "source": [
    "df.head(5)"
   ]
  },
  {
   "cell_type": "markdown",
   "id": "28764728",
   "metadata": {},
   "source": [
    "## 1. Categorias únicas de cada variável qualitativa\n",
    "\n",
    "Toda variável qualitativa possui um conjunto  \n",
    "finito de valores que ela pode assumir, que  \n",
    "nós chamamos de \"categorias únicas\".\n",
    "\n",
    "O dataset em questão traz um total de  \n",
    "**três variáveis qualitativas**:  \n",
    "\"*cash_type*\", \"*card*\" e \"*coffee_name*\".\n",
    "\n",
    "Para exibir as categorias únicas de cada variável  \n",
    "qualitativa, basta usar a função `unique()`."
   ]
  },
  {
   "cell_type": "code",
   "execution_count": 5,
   "id": "f4d2e26a",
   "metadata": {},
   "outputs": [
    {
     "data": {
      "text/plain": [
       "array(['card', 'cash'], dtype=object)"
      ]
     },
     "execution_count": 5,
     "metadata": {},
     "output_type": "execute_result"
    }
   ],
   "source": [
    "df[\"cash_type\"].unique()"
   ]
  },
  {
   "cell_type": "code",
   "execution_count": 6,
   "id": "c02e0fc6",
   "metadata": {},
   "outputs": [
    {
     "data": {
      "text/plain": [
       "array(['ANON-0000-0000-0001', 'ANON-0000-0000-0002',\n",
       "       'ANON-0000-0000-0003', ..., 'ANON-0000-0000-1314',\n",
       "       'ANON-0000-0000-1315', 'ANON-0000-0000-1316'],\n",
       "      shape=(1317,), dtype=object)"
      ]
     },
     "execution_count": 6,
     "metadata": {},
     "output_type": "execute_result"
    }
   ],
   "source": [
    "df[\"card\"].unique()"
   ]
  },
  {
   "cell_type": "code",
   "execution_count": 7,
   "id": "260d90a2",
   "metadata": {},
   "outputs": [
    {
     "data": {
      "text/plain": [
       "array(['Latte', 'Hot Chocolate', 'Americano', 'Americano with Milk',\n",
       "       'Cocoa', 'Cortado', 'Espresso', 'Cappuccino'], dtype=object)"
      ]
     },
     "execution_count": 7,
     "metadata": {},
     "output_type": "execute_result"
    }
   ],
   "source": [
    "df[\"coffee_name\"].unique()"
   ]
  },
  {
   "cell_type": "markdown",
   "id": "5b53a9ce",
   "metadata": {},
   "source": [
    "## 2. Distribuição da frequência das categorias de \"*coffee_name*\""
   ]
  },
  {
   "cell_type": "code",
   "execution_count": 8,
   "id": "e035dec6",
   "metadata": {},
   "outputs": [
    {
     "data": {
      "text/plain": [
       "coffee_name\n",
       "Americano with Milk    824\n",
       "Latte                  782\n",
       "Americano              578\n",
       "Cappuccino             501\n",
       "Cortado                292\n",
       "Hot Chocolate          282\n",
       "Cocoa                  243\n",
       "Espresso               134\n",
       "Name: count, dtype: int64"
      ]
     },
     "execution_count": 8,
     "metadata": {},
     "output_type": "execute_result"
    }
   ],
   "source": [
    "df[\"coffee_name\"].value_counts()"
   ]
  },
  {
   "cell_type": "code",
   "execution_count": 9,
   "id": "9d773db7",
   "metadata": {},
   "outputs": [
    {
     "data": {
      "text/plain": [
       "coffee_name\n",
       "Americano with Milk    22.662266\n",
       "Latte                  21.507151\n",
       "Americano              15.896590\n",
       "Cappuccino             13.778878\n",
       "Cortado                 8.030803\n",
       "Hot Chocolate           7.755776\n",
       "Cocoa                   6.683168\n",
       "Espresso                3.685369\n",
       "Name: proportion, dtype: float64"
      ]
     },
     "execution_count": 9,
     "metadata": {},
     "output_type": "execute_result"
    }
   ],
   "source": [
    "# Em percentual:\n",
    "df[\"coffee_name\"].value_counts(normalize=True) * 100"
   ]
  },
  {
   "cell_type": "markdown",
   "id": "82c1dbc0",
   "metadata": {},
   "source": [
    "#### Logo, pode-se afirmar que os cafés mais vendidos são:\n",
    "\n",
    "1 - **Americano with Milk** (22,7%)  \n",
    "2 - **Latte** (21,5%)  \n",
    "3 - **Americano** (15,9%)"
   ]
  },
  {
   "cell_type": "markdown",
   "id": "40f26533",
   "metadata": {},
   "source": [
    "## 3. Moda das variáveis qualitativas"
   ]
  },
  {
   "cell_type": "code",
   "execution_count": 14,
   "id": "7156064f",
   "metadata": {},
   "outputs": [
    {
     "data": {
      "text/plain": [
       "0    Americano with Milk\n",
       "Name: coffee_name, dtype: object"
      ]
     },
     "execution_count": 14,
     "metadata": {},
     "output_type": "execute_result"
    }
   ],
   "source": [
    "df[\"coffee_name\"].mode()"
   ]
  },
  {
   "cell_type": "code",
   "execution_count": 13,
   "id": "ae0b20b2",
   "metadata": {},
   "outputs": [
    {
     "data": {
      "text/plain": [
       "0    card\n",
       "Name: cash_type, dtype: object"
      ]
     },
     "execution_count": 13,
     "metadata": {},
     "output_type": "execute_result"
    }
   ],
   "source": [
    "df[\"cash_type\"].mode()"
   ]
  },
  {
   "cell_type": "code",
   "execution_count": 15,
   "id": "90d33c07",
   "metadata": {},
   "outputs": [
    {
     "data": {
      "text/plain": [
       "0    ANON-0000-0000-0012\n",
       "Name: card, dtype: object"
      ]
     },
     "execution_count": 15,
     "metadata": {},
     "output_type": "execute_result"
    }
   ],
   "source": [
    "df[\"card\"].mode()"
   ]
  },
  {
   "cell_type": "markdown",
   "id": "cb196853",
   "metadata": {},
   "source": [
    "## 4. Visualização da distribuição de categorias"
   ]
  },
  {
   "cell_type": "code",
   "execution_count": null,
   "id": "afea2157",
   "metadata": {},
   "outputs": [
    {
     "data": {
      "image/png": "[encoded data removed]",
      "text/plain": [
       "<Figure size 1000x1000 with 1 Axes>"
      ]
     },
     "metadata": {},
     "output_type": "display_data"
    }
   ],
   "source": [
    "plt.figure(figsize=(10,10))\n",
    "sns.countplot(\n",
    "    data=df, \n",
    "    x=\"coffee_name\", \n",
    "    order=df[\"coffee_name\"].value_counts().index[::-1] # Ordem invertida\n",
    ")\n",
    "plt.xticks(rotation=45)\n",
    "\n",
    "plt.title(\"Distribuição de vendas por tipo de café\")\n",
    "plt.show()"
   ]
  },
  {
   "cell_type": "code",
   "execution_count": 34,
   "id": "940a574e",
   "metadata": {},
   "outputs": [
    {
     "data": {
      "image/png": "[encoded data removed]",
      "text/plain": [
       "<Figure size 1000x1000 with 1 Axes>"
      ]
     },
     "metadata": {},
     "output_type": "display_data"
    }
   ],
   "source": [
    "df[\"cash_type\"].value_counts().plot(\n",
    "    kind=\"pie\",\n",
    "    figsize=(10,10),\n",
    "    autopct=\"%.1f%%\",\n",
    "    ylabel=\"\"\n",
    ")\n",
    "\n",
    "plt.title(\"Distribuição das formas de pagamento\")\n",
    "plt.show()"
   ]
  }
 ],
 "metadata": {
  "kernelspec": {
   "display_name": ".venv",
   "language": "python",
   "name": "python3"
  },
  "language_info": {
   "codemirror_mode": {
    "name": "ipython",
    "version": 3
   },
   "file_extension": ".py",
   "mimetype": "text/x-python",
   "name": "python",
   "nbconvert_exporter": "python",
   "pygments_lexer": "ipython3",
   "version": "3.12.10"
  }
 },
 "nbformat": 4,
 "nbformat_minor": 5
}
